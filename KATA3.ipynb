{
 "cells": [
  {
   "cell_type": "markdown",
   "metadata": {},
   "source": [
    "#Ejercicio 1"
   ]
  },
  {
   "cell_type": "code",
   "execution_count": 2,
   "metadata": {},
   "outputs": [
    {
     "name": "stdout",
     "output_type": "stream",
     "text": [
      "Alerta! Se acerca un asteroide!\n"
     ]
    }
   ],
   "source": [
    "vasteroide=49\n",
    "if vasteroide>=49:\n",
    "    print(\"Alerta! Se acerca un asteroide!\")\n",
    "else:\n",
    "    print(\"No existe peligro alguno\")"
   ]
  },
  {
   "cell_type": "markdown",
   "metadata": {},
   "source": [
    "#EJERCICIO 2"
   ]
  },
  {
   "cell_type": "code",
   "execution_count": null,
   "metadata": {},
   "outputs": [],
   "source": [
    "vasteroide=19\n",
    "\n",
    "if vasteroide>20:\n",
    "    print(\"Miren al cielo, acaba de entrar un asteroide a la atmosfera\")\n",
    "elif vasteroide==20:\n",
    "    print(\"Miren al cielo, acaba de entrar un asteroide a la atmosfera\")\n",
    "else:\n",
    "    print(\"No hay nada que ver aquí\")\n",
    "    "
   ]
  },
  {
   "cell_type": "markdown",
   "metadata": {},
   "source": [
    "#EJERCICIO3"
   ]
  },
  {
   "cell_type": "code",
   "execution_count": 3,
   "metadata": {},
   "outputs": [
    {
     "name": "stdout",
     "output_type": "stream",
     "text": [
      "Mira arriba, hay una luz mágica en el cielo\n"
     ]
    }
   ],
   "source": [
    "vasteroide=25\n",
    "tam_asteroide=40\n",
    "\n",
    "if vasteroide>25 and tam_asteroide>25:\n",
    "    print(\"Asteroide gigante se acerca, catastrofe inminente!\")\n",
    "elif vasteroide >=20:\n",
    "    print(\"Mira arriba, hay una luz mágica en el cielo\")\n",
    "elif tam_asteroide<25:\n",
    "    print(\"Nada interesante por aquí\")\n",
    "else:\n",
    "    print(\"Nada interesante por aquí\")\n",
    "    \n"
   ]
  }
 ],
 "metadata": {
  "interpreter": {
   "hash": "57a2cdc438a92be11feae6bce825b60fe76609e20e8d4cb427710f68e78e28f2"
  },
  "kernelspec": {
   "display_name": "Python 3.10.2 64-bit",
   "language": "python",
   "name": "python3"
  },
  "language_info": {
   "codemirror_mode": {
    "name": "ipython",
    "version": 3
   },
   "file_extension": ".py",
   "mimetype": "text/x-python",
   "name": "python",
   "nbconvert_exporter": "python",
   "pygments_lexer": "ipython3",
   "version": "3.10.2"
  },
  "orig_nbformat": 4
 },
 "nbformat": 4,
 "nbformat_minor": 2
}
